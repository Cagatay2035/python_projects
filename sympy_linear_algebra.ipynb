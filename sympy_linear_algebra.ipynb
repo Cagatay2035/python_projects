{
 "cells": [
  {
   "cell_type": "markdown",
   "metadata": {},
   "source": [
    "TD-3 MATRICES"
   ]
  },
  {
   "cell_type": "markdown",
   "metadata": {},
   "source": [
    "Exercise-3"
   ]
  },
  {
   "cell_type": "code",
   "execution_count": 23,
   "metadata": {},
   "outputs": [
    {
     "name": "stdout",
     "output_type": "stream",
     "text": [
      "Sorunun 1. kismi\n",
      "A(x).A(y) =\n"
     ]
    },
    {
     "data": {
      "text/latex": [
       "$\\displaystyle \\left[\\begin{matrix}- \\sin{\\left(x \\right)} \\sin{\\left(y \\right)} + \\cos{\\left(x \\right)} \\cos{\\left(y \\right)} & \\sin{\\left(x \\right)} \\cos{\\left(y \\right)} + \\sin{\\left(y \\right)} \\cos{\\left(x \\right)}\\\\- \\sin{\\left(x \\right)} \\cos{\\left(y \\right)} - \\sin{\\left(y \\right)} \\cos{\\left(x \\right)} & - \\sin{\\left(x \\right)} \\sin{\\left(y \\right)} + \\cos{\\left(x \\right)} \\cos{\\left(y \\right)}\\end{matrix}\\right]$"
      ],
      "text/plain": [
       "Matrix([\n",
       "[-sin(x)*sin(y) + cos(x)*cos(y),  sin(x)*cos(y) + sin(y)*cos(x)],\n",
       "[-sin(x)*cos(y) - sin(y)*cos(x), -sin(x)*sin(y) + cos(x)*cos(y)]])"
      ]
     },
     "metadata": {},
     "output_type": "display_data"
    },
    {
     "name": "stdout",
     "output_type": "stream",
     "text": [
      "\n",
      "B(x).B(y) =\n"
     ]
    },
    {
     "data": {
      "text/latex": [
       "$\\displaystyle \\left[\\begin{matrix}\\sinh{\\left(x \\right)} \\sinh{\\left(y \\right)} + \\cosh{\\left(x \\right)} \\cosh{\\left(y \\right)} & \\sinh{\\left(x \\right)} \\cosh{\\left(y \\right)} + \\sinh{\\left(y \\right)} \\cosh{\\left(x \\right)}\\\\\\sinh{\\left(x \\right)} \\cosh{\\left(y \\right)} + \\sinh{\\left(y \\right)} \\cosh{\\left(x \\right)} & \\sinh{\\left(x \\right)} \\sinh{\\left(y \\right)} + \\cosh{\\left(x \\right)} \\cosh{\\left(y \\right)}\\end{matrix}\\right]$"
      ],
      "text/plain": [
       "Matrix([\n",
       "[sinh(x)*sinh(y) + cosh(x)*cosh(y), sinh(x)*cosh(y) + sinh(y)*cosh(x)],\n",
       "[sinh(x)*cosh(y) + sinh(y)*cosh(x), sinh(x)*sinh(y) + cosh(x)*cosh(y)]])"
      ]
     },
     "metadata": {},
     "output_type": "display_data"
    },
    {
     "name": "stdout",
     "output_type": "stream",
     "text": [
      "Sorunun 2. kismi\n",
      "Sorunun (i) bolumu\n",
      "Det(A(x)) =\n"
     ]
    },
    {
     "data": {
      "text/latex": [
       "$\\displaystyle \\sin^{2}{\\left(x \\right)} + \\cos^{2}{\\left(x \\right)}$"
      ],
      "text/plain": [
       "sin(x)**2 + cos(x)**2"
      ]
     },
     "metadata": {},
     "output_type": "display_data"
    },
    {
     "name": "stdout",
     "output_type": "stream",
     "text": [
      "Det(B(x)) =\n"
     ]
    },
    {
     "data": {
      "text/latex": [
       "$\\displaystyle - \\sinh^{2}{\\left(x \\right)} + \\cosh^{2}{\\left(x \\right)}$"
      ],
      "text/plain": [
       "-sinh(x)**2 + cosh(x)**2"
      ]
     },
     "metadata": {},
     "output_type": "display_data"
    },
    {
     "name": "stdout",
     "output_type": "stream",
     "text": [
      "ikisi de sifira esit degil yani tersleri var\n",
      "\n",
      "A(x)in tersi:\n"
     ]
    },
    {
     "data": {
      "text/latex": [
       "$\\displaystyle \\left[\\begin{matrix}- \\frac{\\sin^{2}{\\left(x \\right)}}{\\cos{\\left(x \\right)}} + \\frac{1}{\\cos{\\left(x \\right)}} & - \\sin{\\left(x \\right)}\\\\\\sin{\\left(x \\right)} & \\cos{\\left(x \\right)}\\end{matrix}\\right]$"
      ],
      "text/plain": [
       "Matrix([\n",
       "[-sin(x)**2/cos(x) + 1/cos(x), -sin(x)],\n",
       "[                      sin(x),  cos(x)]])"
      ]
     },
     "metadata": {},
     "output_type": "display_data"
    },
    {
     "name": "stdout",
     "output_type": "stream",
     "text": [
      "\n",
      "B(x)in tersi:\n"
     ]
    },
    {
     "data": {
      "text/latex": [
       "$\\displaystyle \\left[\\begin{matrix}\\frac{\\sinh^{2}{\\left(x \\right)}}{\\cosh{\\left(x \\right)}} + \\frac{1}{\\cosh{\\left(x \\right)}} & - \\sinh{\\left(x \\right)}\\\\- \\sinh{\\left(x \\right)} & \\cosh{\\left(x \\right)}\\end{matrix}\\right]$"
      ],
      "text/plain": [
       "Matrix([\n",
       "[sinh(x)**2/cosh(x) + 1/cosh(x), -sinh(x)],\n",
       "[                      -sinh(x),  cosh(x)]])"
      ]
     },
     "metadata": {},
     "output_type": "display_data"
    },
    {
     "name": "stdout",
     "output_type": "stream",
     "text": [
      "Sorunun (ii) bolumu\n",
      "A(x)^n:\n"
     ]
    },
    {
     "data": {
      "text/latex": [
       "$\\displaystyle \\left[\\begin{matrix}\\frac{\\left(- \\sqrt{\\left(\\cos{\\left(x \\right)} - 1\\right) \\left(\\cos{\\left(x \\right)} + 1\\right)} + \\cos{\\left(x \\right)}\\right)^{n}}{2} + \\frac{\\left(\\sqrt{\\left(\\cos{\\left(x \\right)} - 1\\right) \\left(\\cos{\\left(x \\right)} + 1\\right)} + \\cos{\\left(x \\right)}\\right)^{n}}{2} & - \\frac{\\left(- \\sqrt{\\left(\\cos{\\left(x \\right)} - 1\\right) \\left(\\cos{\\left(x \\right)} + 1\\right)} + \\cos{\\left(x \\right)}\\right)^{n} \\sin{\\left(x \\right)}}{2 \\sqrt{\\cos^{2}{\\left(x \\right)} - 1}} + \\frac{\\left(\\sqrt{\\left(\\cos{\\left(x \\right)} - 1\\right) \\left(\\cos{\\left(x \\right)} + 1\\right)} + \\cos{\\left(x \\right)}\\right)^{n} \\sin{\\left(x \\right)}}{2 \\sqrt{\\cos^{2}{\\left(x \\right)} - 1}}\\\\- \\frac{\\left(- \\sqrt{\\left(\\cos{\\left(x \\right)} - 1\\right) \\left(\\cos{\\left(x \\right)} + 1\\right)} + \\cos{\\left(x \\right)}\\right)^{n} \\sqrt{\\cos^{2}{\\left(x \\right)} - 1}}{2 \\sin{\\left(x \\right)}} + \\frac{\\left(\\sqrt{\\left(\\cos{\\left(x \\right)} - 1\\right) \\left(\\cos{\\left(x \\right)} + 1\\right)} + \\cos{\\left(x \\right)}\\right)^{n} \\sqrt{\\cos^{2}{\\left(x \\right)} - 1}}{2 \\sin{\\left(x \\right)}} & \\frac{\\left(- \\sqrt{\\left(\\cos{\\left(x \\right)} - 1\\right) \\left(\\cos{\\left(x \\right)} + 1\\right)} + \\cos{\\left(x \\right)}\\right)^{n}}{2} + \\frac{\\left(\\sqrt{\\left(\\cos{\\left(x \\right)} - 1\\right) \\left(\\cos{\\left(x \\right)} + 1\\right)} + \\cos{\\left(x \\right)}\\right)^{n}}{2}\\end{matrix}\\right]$"
      ],
      "text/plain": [
       "Matrix([\n",
       "[                                                           (-sqrt((cos(x) - 1)*(cos(x) + 1)) + cos(x))**n/2 + (sqrt((cos(x) - 1)*(cos(x) + 1)) + cos(x))**n/2, -(-sqrt((cos(x) - 1)*(cos(x) + 1)) + cos(x))**n*sin(x)/(2*sqrt(cos(x)**2 - 1)) + (sqrt((cos(x) - 1)*(cos(x) + 1)) + cos(x))**n*sin(x)/(2*sqrt(cos(x)**2 - 1))],\n",
       "[-(-sqrt((cos(x) - 1)*(cos(x) + 1)) + cos(x))**n*sqrt(cos(x)**2 - 1)/(2*sin(x)) + (sqrt((cos(x) - 1)*(cos(x) + 1)) + cos(x))**n*sqrt(cos(x)**2 - 1)/(2*sin(x)),                                                            (-sqrt((cos(x) - 1)*(cos(x) + 1)) + cos(x))**n/2 + (sqrt((cos(x) - 1)*(cos(x) + 1)) + cos(x))**n/2]])"
      ]
     },
     "metadata": {},
     "output_type": "display_data"
    },
    {
     "name": "stdout",
     "output_type": "stream",
     "text": [
      "\n",
      "B(x)^n:\n"
     ]
    },
    {
     "data": {
      "text/latex": [
       "$\\displaystyle \\left[\\begin{matrix}\\frac{\\left(- \\sqrt{\\left(\\cosh{\\left(x \\right)} - 1\\right) \\left(\\cosh{\\left(x \\right)} + 1\\right)} + \\cosh{\\left(x \\right)}\\right)^{n}}{2} + \\frac{\\left(\\sqrt{\\left(\\cosh{\\left(x \\right)} - 1\\right) \\left(\\cosh{\\left(x \\right)} + 1\\right)} + \\cosh{\\left(x \\right)}\\right)^{n}}{2} & - \\frac{\\left(- \\sqrt{\\left(\\cosh{\\left(x \\right)} - 1\\right) \\left(\\cosh{\\left(x \\right)} + 1\\right)} + \\cosh{\\left(x \\right)}\\right)^{n} \\sinh{\\left(x \\right)}}{2 \\sqrt{\\cosh^{2}{\\left(x \\right)} - 1}} + \\frac{\\left(\\sqrt{\\left(\\cosh{\\left(x \\right)} - 1\\right) \\left(\\cosh{\\left(x \\right)} + 1\\right)} + \\cosh{\\left(x \\right)}\\right)^{n} \\sinh{\\left(x \\right)}}{2 \\sqrt{\\cosh^{2}{\\left(x \\right)} - 1}}\\\\- \\frac{\\left(- \\sqrt{\\left(\\cosh{\\left(x \\right)} - 1\\right) \\left(\\cosh{\\left(x \\right)} + 1\\right)} + \\cosh{\\left(x \\right)}\\right)^{n} \\sqrt{\\cosh^{2}{\\left(x \\right)} - 1}}{2 \\sinh{\\left(x \\right)}} + \\frac{\\left(\\sqrt{\\left(\\cosh{\\left(x \\right)} - 1\\right) \\left(\\cosh{\\left(x \\right)} + 1\\right)} + \\cosh{\\left(x \\right)}\\right)^{n} \\sqrt{\\cosh^{2}{\\left(x \\right)} - 1}}{2 \\sinh{\\left(x \\right)}} & \\frac{\\left(- \\sqrt{\\left(\\cosh{\\left(x \\right)} - 1\\right) \\left(\\cosh{\\left(x \\right)} + 1\\right)} + \\cosh{\\left(x \\right)}\\right)^{n}}{2} + \\frac{\\left(\\sqrt{\\left(\\cosh{\\left(x \\right)} - 1\\right) \\left(\\cosh{\\left(x \\right)} + 1\\right)} + \\cosh{\\left(x \\right)}\\right)^{n}}{2}\\end{matrix}\\right]$"
      ],
      "text/plain": [
       "Matrix([\n",
       "[                                                               (-sqrt((cosh(x) - 1)*(cosh(x) + 1)) + cosh(x))**n/2 + (sqrt((cosh(x) - 1)*(cosh(x) + 1)) + cosh(x))**n/2, -(-sqrt((cosh(x) - 1)*(cosh(x) + 1)) + cosh(x))**n*sinh(x)/(2*sqrt(cosh(x)**2 - 1)) + (sqrt((cosh(x) - 1)*(cosh(x) + 1)) + cosh(x))**n*sinh(x)/(2*sqrt(cosh(x)**2 - 1))],\n",
       "[-(-sqrt((cosh(x) - 1)*(cosh(x) + 1)) + cosh(x))**n*sqrt(cosh(x)**2 - 1)/(2*sinh(x)) + (sqrt((cosh(x) - 1)*(cosh(x) + 1)) + cosh(x))**n*sqrt(cosh(x)**2 - 1)/(2*sinh(x)),                                                                (-sqrt((cosh(x) - 1)*(cosh(x) + 1)) + cosh(x))**n/2 + (sqrt((cosh(x) - 1)*(cosh(x) + 1)) + cosh(x))**n/2]])"
      ]
     },
     "metadata": {},
     "output_type": "display_data"
    }
   ],
   "source": [
    "import sympy as sp\n",
    "import math\n",
    "\n",
    "# x ve y sembollerini tanimla\n",
    "x, y = sp.symbols('x y')\n",
    "\n",
    "# A(x) ve B(x) matrislerini tanimla\n",
    "A = sp.Matrix([[sp.cos(x), sp.sin(x)], [-sp.sin(x), sp.cos(x)]])\n",
    "B = sp.Matrix([[sp.cosh(x), sp.sinh(x)], [sp.sinh(x), sp.cosh(x)]])\n",
    "\n",
    "#Sorunun 1. kismi\n",
    "print(\"Sorunun 1. kismi\")\n",
    "\n",
    "# A(x).A(y) matris carpimini hesapla\n",
    "A_xy = A.subs(x, y) * A\n",
    "print(\"A(x).A(y) =\")\n",
    "display(A_xy)\n",
    "\n",
    "# B(x).B(y) matris carpimini hesapla\n",
    "B_xy = B.subs(x, y) * B\n",
    "print(\"\\nB(x).B(y) =\")\n",
    "display(B_xy)\n",
    "\n",
    "#Sorunun 2. kismi\n",
    "print(\"Sorunun 2. kismi\")\n",
    "#(i) bolumu\n",
    "print(\"Sorunun (i) bolumu\")\n",
    "\n",
    "# A(x) ve B(x) matrislerinin determinantlarını bul\n",
    "det_A = A.det()\n",
    "det_B = B.det()\n",
    "print(\"Det(A(x)) =\")\n",
    "display(det_A)\n",
    "print(\"Det(B(x)) =\")\n",
    "display(det_B)\n",
    "print(\"ikisi de sifira esit degil yani tersleri var\")\n",
    "\n",
    "# A(x) ve B(x) matrislerinin terslerini bul\n",
    "try:\n",
    "    A_inv = A.inv()\n",
    "    print(\"\\nA(x)in tersi:\")\n",
    "    display(A_inv)\n",
    "except sp.SingularMatrixError:\n",
    "    print(\"\\nA(x) matrisi tersi alinamaz (determinant sifir).\")\n",
    "\n",
    "try:\n",
    "    B_inv = B.inv()\n",
    "    print(\"\\nB(x)in tersi:\")\n",
    "    display(B_inv)\n",
    "except sp.SingularMatrixError:\n",
    "    print(\"\\nB(x) matrisi tersi alinamaz (determinant sifir).\")\n",
    "\n",
    "#(ii) bolumu\n",
    "print(\"Sorunun (ii) bolumu\")\n",
    "\n",
    "# n tam sayisi icin A(x)^n ve B(x)^n matrislerini hesapla\n",
    "n = sp.symbols('n', integer=True)\n",
    "A_power_n = A**n\n",
    "B_power_n = B**n\n",
    "\n",
    "print(\"A(x)^n:\")\n",
    "display(A_power_n)\n",
    "\n",
    "print(\"\\nB(x)^n:\")\n",
    "display(B_power_n)"
   ]
  },
  {
   "cell_type": "markdown",
   "metadata": {},
   "source": [
    "Exercise-4"
   ]
  },
  {
   "cell_type": "code",
   "execution_count": 24,
   "metadata": {},
   "outputs": [
    {
     "name": "stdout",
     "output_type": "stream",
     "text": [
      "Matris A1'in tersi:\n"
     ]
    },
    {
     "data": {
      "text/latex": [
       "$\\displaystyle \\left[\\begin{matrix}- \\frac{1}{7} & 0 & \\frac{2}{7}\\\\\\frac{2}{7} & - \\frac{1}{7} & 0\\\\0 & \\frac{2}{7} & - \\frac{1}{7}\\end{matrix}\\right]$"
      ],
      "text/plain": [
       "Matrix([\n",
       "[-1/7,    0,  2/7],\n",
       "[ 2/7, -1/7,    0],\n",
       "[   0,  2/7, -1/7]])"
      ]
     },
     "metadata": {},
     "output_type": "display_data"
    },
    {
     "name": "stdout",
     "output_type": "stream",
     "text": [
      "Matris A2'nin tersi:\n"
     ]
    },
    {
     "data": {
      "text/latex": [
       "$\\displaystyle \\left[\\begin{matrix}- \\frac{1}{7} & \\frac{2}{7} & 0\\\\0 & - \\frac{1}{7} & \\frac{2}{7}\\\\\\frac{2}{7} & 0 & - \\frac{1}{7}\\end{matrix}\\right]$"
      ],
      "text/plain": [
       "Matrix([\n",
       "[-1/7,  2/7,    0],\n",
       "[   0, -1/7,  2/7],\n",
       "[ 2/7,    0, -1/7]])"
      ]
     },
     "metadata": {},
     "output_type": "display_data"
    },
    {
     "name": "stdout",
     "output_type": "stream",
     "text": [
      "Matris A3'ün tersi:\n"
     ]
    },
    {
     "data": {
      "text/latex": [
       "$\\displaystyle \\left[\\begin{matrix}- \\frac{1}{7} & 0 & \\frac{2}{7}\\\\0 & \\frac{2}{7} & - \\frac{1}{7}\\\\\\frac{2}{7} & - \\frac{1}{7} & 0\\end{matrix}\\right]$"
      ],
      "text/plain": [
       "Matrix([\n",
       "[-1/7,    0,  2/7],\n",
       "[   0,  2/7, -1/7],\n",
       "[ 2/7, -1/7,    0]])"
      ]
     },
     "metadata": {},
     "output_type": "display_data"
    },
    {
     "name": "stdout",
     "output_type": "stream",
     "text": [
      "Matris A4'in tersi:\n"
     ]
    },
    {
     "data": {
      "text/latex": [
       "$\\displaystyle \\left[\\begin{matrix}0 & - \\frac{1}{7} & \\frac{2}{7}\\\\- \\frac{1}{7} & \\frac{2}{7} & 0\\\\\\frac{2}{7} & 0 & - \\frac{1}{7}\\end{matrix}\\right]$"
      ],
      "text/plain": [
       "Matrix([\n",
       "[   0, -1/7,  2/7],\n",
       "[-1/7,  2/7,    0],\n",
       "[ 2/7,    0, -1/7]])"
      ]
     },
     "metadata": {},
     "output_type": "display_data"
    }
   ],
   "source": [
    "import math\n",
    "from sympy import Matrix\n",
    "\n",
    "# 1. kisim\n",
    "A1 = Matrix([[1, 4, 2],\n",
    "            [2, 1, 4],\n",
    "            [4, 2, 1]])\n",
    "\n",
    "# Matrisin tersini hesaplayalim\n",
    "A1_inverse = A1.inv()\n",
    "\n",
    "print(\"Matris A1'in tersi:\")\n",
    "display(A1_inverse)\n",
    "\n",
    "# 2. kisim\n",
    "A2 = Matrix([[1, 2, 4],\n",
    "            [4, 1, 2],\n",
    "            [2, 4, 1]])\n",
    "\n",
    "# Matrisin tersini hesaplayalim\n",
    "A2_inverse = A2.inv()\n",
    "\n",
    "print(\"Matris A2'nin tersi:\")\n",
    "display(A2_inverse)\n",
    "\n",
    "# 3. kisim\n",
    "A3 = Matrix([[1, 2, 4],\n",
    "            [2, 4, 1],\n",
    "            [4, 1, 2]])\n",
    "\n",
    "# Matrisin tersini hesaplayalim\n",
    "A3_inverse = A3.inv()\n",
    "\n",
    "print(\"Matris A3'ün tersi:\")\n",
    "display(A3_inverse)\n",
    "\n",
    "# 4. kisim\n",
    "A4 = Matrix([[2, 1, 4],\n",
    "            [1, 4, 2],\n",
    "            [4, 2, 1]])\n",
    "\n",
    "# Matrisin tersini hesaplayalim\n",
    "A4_inverse = A4.inv()\n",
    "\n",
    "print(\"Matris A4'in tersi:\")\n",
    "display(A4_inverse)\n"
   ]
  },
  {
   "cell_type": "markdown",
   "metadata": {},
   "source": [
    "Exercise-6"
   ]
  },
  {
   "cell_type": "code",
   "execution_count": 25,
   "metadata": {},
   "outputs": [
    {
     "name": "stdout",
     "output_type": "stream",
     "text": [
      "1. kisim\n",
      "B uzeri 2\n"
     ]
    },
    {
     "data": {
      "text/latex": [
       "$\\displaystyle \\left[\\begin{matrix}0 & 0 & 0\\\\0 & 0 & 0\\\\0 & 0 & 0\\end{matrix}\\right]$"
      ],
      "text/plain": [
       "Matrix([\n",
       "[0, 0, 0],\n",
       "[0, 0, 0],\n",
       "[0, 0, 0]])"
      ]
     },
     "metadata": {},
     "output_type": "display_data"
    },
    {
     "name": "stdout",
     "output_type": "stream",
     "text": [
      "2. kisim\n",
      "A üzeri n: Matrix([[2*n + 1, -2*n, 0], [2*n, 1 - 2*n, 0], [0, 0, 1]])\n"
     ]
    },
    {
     "data": {
      "text/latex": [
       "$\\displaystyle \\left[\\begin{matrix}2 n + 1 & - 2 n & 0\\\\2 n & 1 - 2 n & 0\\\\0 & 0 & 1\\end{matrix}\\right]$"
      ],
      "text/plain": [
       "Matrix([\n",
       "[2*n + 1,    -2*n, 0],\n",
       "[    2*n, 1 - 2*n, 0],\n",
       "[      0,       0, 1]])"
      ]
     },
     "metadata": {},
     "output_type": "display_data"
    },
    {
     "name": "stdout",
     "output_type": "stream",
     "text": [
      "iki farkli turde de bastirdim cunku printte iki uzeri n'i dogru gosteriyor displayde onu iyi gosteremedi ancak sekil olarak display daha hos\n"
     ]
    }
   ],
   "source": [
    "import sympy as sp\n",
    "import numpy as np\n",
    "\n",
    "# Matris A\n",
    "A = Matrix([[3, -2, 0],\n",
    "            [2, -1, 0],\n",
    "            [0, 0, 1]])\n",
    "\n",
    "# Birim matris olusturma\n",
    "I = eye(3)\n",
    "\n",
    "#1. kisim\n",
    "print(\"1. kisim\")\n",
    "# Matris B\n",
    "B = A - I\n",
    "\n",
    "print(\"B uzeri 2\")\n",
    "B_squared = B**2\n",
    "\n",
    "display(B_squared)\n",
    "\n",
    "n = sp.symbols('n', integer=True)\n",
    "\n",
    "#2. kisim\n",
    "print(\"2. kisim\")\n",
    "# A uzeri n'yi hesaplayalim\n",
    "A_power_n = A**n\n",
    "\n",
    "print(\"A üzeri n:\",A_power_n)\n",
    "display(A_power_n)\n",
    "print(\"iki farkli turde de bastirdim cunku printte iki uzeri n'i dogru gosteriyor displayde onu iyi gosteremedi ancak sekil olarak display daha hos\")"
   ]
  },
  {
   "cell_type": "markdown",
   "metadata": {},
   "source": [
    "TD-4 COMPLEXES"
   ]
  },
  {
   "cell_type": "markdown",
   "metadata": {},
   "source": [
    "Exercise-1"
   ]
  },
  {
   "cell_type": "code",
   "execution_count": 26,
   "metadata": {},
   "outputs": [
    {
     "name": "stdout",
     "output_type": "stream",
     "text": [
      "1. denklem \n",
      "Cozumler 1: [-1 + 2*I, 1 - 2*I]\n",
      "\n",
      "\n",
      "2. denklem \n"
     ]
    },
    {
     "name": "stdout",
     "output_type": "stream",
     "text": [
      "Cozumler 2: [-3 - 4*I, 3 + 4*I]\n",
      "\n",
      "\n",
      "3. denklem \n",
      "Cozumler 3: [4 - 3*I, 4 + 3*I]\n",
      "\n",
      "\n",
      "4. denklem \n",
      "Cozumler 4: [I, -1 - I]\n",
      "\n",
      "\n",
      "5. denklem \n",
      "Cozumler 5: [-3 - 2*I, -1 - I]\n",
      "\n",
      "\n",
      "6. denklem \n",
      "Cozumler 6: [1/2, 1 - I, 2 + 2*I]\n",
      "\n",
      "\n",
      "6. denklemin bir koku disinda (1/2) tum kokler irreel\n"
     ]
    }
   ],
   "source": [
    "import sympy as sp\n",
    "\n",
    "# Birinci denklem: z^2 = -3 - 4i\n",
    "print(\"1. denklem \")\n",
    "z = sp.symbols('z')\n",
    "eq1 = z**2 + 3 + 4*sp.I\n",
    "solutions1 = sp.solve(eq1, z)\n",
    "print(\"Cozumler 1:\", solutions1)\n",
    "print(\"\\n\")\n",
    "\n",
    "# Ikinci denklem: z^2 = -7 + 24i\n",
    "print(\"2. denklem \")\n",
    "eq2 = z**2 + 7 - 24*sp.I\n",
    "solutions2 = sp.solve(eq2, z)\n",
    "print(\"Cozumler 2:\", solutions2)\n",
    "print(\"\\n\")\n",
    "\n",
    "# Ucuncu denklem: z^2 - 8z + 25 = 0\n",
    "print(\"3. denklem \")\n",
    "eq3 = z**2 - 8*z + 25\n",
    "solutions3 = sp.solve(eq3, z)\n",
    "print(\"Cozumler 3:\", solutions3)\n",
    "print(\"\\n\")\n",
    "\n",
    "# Dorduncu denklem: iz^2 + iz + 1 + i = 0\n",
    "print(\"4. denklem \")\n",
    "eq4 = sp.I * z**2 + sp.I * z + 1 + sp.I\n",
    "solutions4 = sp.solve(eq4, z)\n",
    "print(\"Cozumler 4:\", solutions4)\n",
    "print(\"\\n\")\n",
    "\n",
    "# Besinci denklem: iz^2 + (4i-3)z + (i-5) = 0\n",
    "print(\"5. denklem \")\n",
    "eq5 = sp.I * z**2 + (4*sp.I - 3)*z + (sp.I - 5)\n",
    "solutions5 = sp.solve(eq5, z)\n",
    "print(\"Cozumler 5:\", solutions5)\n",
    "print(\"\\n\")\n",
    "\n",
    "# Altinci denklem: 2z^3 - (7 + 2i)z^2 + (11 + i)z - 4 = 0\n",
    "print(\"6. denklem \")\n",
    "eq6 = 2*z**3 - (7 + 2*sp.I)*z**2 + (11 + sp.I)*z - 4\n",
    "solutions6 = sp.solve(eq6, z)\n",
    "print(\"Cozumler 6:\", solutions6)\n",
    "print(\"\\n\")\n",
    "print(\"6. denklemin bir koku disinda (1/2) tum kokler irreel\")\n"
   ]
  },
  {
   "cell_type": "markdown",
   "metadata": {},
   "source": [
    "Exercise-8"
   ]
  },
  {
   "cell_type": "code",
   "execution_count": 27,
   "metadata": {},
   "outputs": [
    {
     "name": "stdout",
     "output_type": "stream",
     "text": [
      "1.kisim\n",
      "\n"
     ]
    },
    {
     "data": {
      "text/latex": [
       "$\\displaystyle x^{3} - 1$"
      ],
      "text/plain": [
       "x**3 - 1"
      ]
     },
     "metadata": {},
     "output_type": "display_data"
    },
    {
     "name": "stdout",
     "output_type": "stream",
     "text": [
      "Reel Faktorler: (x - 1)*(x**2 + x + 1)\n",
      "x^3 - 1 kokleri: [1, -1/2 - sqrt(3)*I/2, -1/2 + sqrt(3)*I/2]\n",
      "Compex Faktorler: (x-1)*(x+1/2 + sqrt(3)*I/2)*(x+1/2 - sqrt(3)*I/2)\n",
      "\n"
     ]
    },
    {
     "data": {
      "text/latex": [
       "$\\displaystyle x^{3} + 1$"
      ],
      "text/plain": [
       "x**3 + 1"
      ]
     },
     "metadata": {},
     "output_type": "display_data"
    },
    {
     "name": "stdout",
     "output_type": "stream",
     "text": [
      "Reel Faktorler: (x + 1)*(x**2 - x + 1)\n",
      "x^3 + 1 kokleri: [-1, 1/2 - sqrt(3)*I/2, 1/2 + sqrt(3)*I/2]\n",
      "Compex Faktorler: (x+1)*(x-1/2 + sqrt(3)*I/2)*(x -1/2 - sqrt(3)*I/2)\n",
      "\n"
     ]
    },
    {
     "data": {
      "text/latex": [
       "$\\displaystyle x^{6} - 1$"
      ],
      "text/plain": [
       "x**6 - 1"
      ]
     },
     "metadata": {},
     "output_type": "display_data"
    },
    {
     "name": "stdout",
     "output_type": "stream",
     "text": [
      "Reel Faktorler: (x - 1)*(x + 1)*(x**2 - x + 1)*(x**2 + x + 1)\n",
      "x^6 - 1 kokleri: [-1, 1, -1/2 - sqrt(3)*I/2, -1/2 + sqrt(3)*I/2, 1/2 - sqrt(3)*I/2, 1/2 + sqrt(3)*I/2]\n",
      "Compex Faktorler: (x+1)*(x-1)*(x+1/2 + sqrt(3)*I/2)*(x+1/2 - sqrt(3)*I/2)*(x-1/2 + sqrt(3)*I/2)*(x-1/2 - sqrt(3)*I/2)\n",
      "\n"
     ]
    },
    {
     "data": {
      "text/latex": [
       "$\\displaystyle x^{6} + 1$"
      ],
      "text/plain": [
       "x**6 + 1"
      ]
     },
     "metadata": {},
     "output_type": "display_data"
    },
    {
     "name": "stdout",
     "output_type": "stream",
     "text": [
      "Reel Faktorler: (x**2 + 1)*(x**4 - x**2 + 1)\n",
      "x^6 + 1 kokleri: [-I, I, -sqrt(3)/2 - I/2, -sqrt(3)/2 + I/2, sqrt(3)/2 - I/2, sqrt(3)/2 + I/2]\n",
      "Compex Faktorler: (x+I)*(x-I)*(x+sqrt(3)/2 + I/2)*(x+sqrt(3)/2 - I/2)*(x-sqrt(3)/2 + I/2)*(x-sqrt(3)/2 - I/2)\n",
      "\n",
      "2.kisim\n",
      "\n"
     ]
    },
    {
     "data": {
      "text/latex": [
       "$\\displaystyle x^{4} + x^{2} + 1$"
      ],
      "text/plain": [
       "x**4 + x**2 + 1"
      ]
     },
     "metadata": {},
     "output_type": "display_data"
    },
    {
     "name": "stdout",
     "output_type": "stream",
     "text": [
      "Reel Faktorler: (x**2 - x + 1)*(x**2 + x + 1)\n",
      "x^4 + x^2 + 1 kokleri: [-1/2 - sqrt(3)*I/2, -1/2 + sqrt(3)*I/2, 1/2 - sqrt(3)*I/2, 1/2 + sqrt(3)*I/2]\n",
      "Compex Faktorler: (x+1/2 + sqrt(3)*I/2)*(x+1/2 - sqrt(3)*I/2)*(x-1/2 + sqrt(3)*I/2)*(x-1/2 - sqrt(3)*I/2)\n",
      "\n"
     ]
    },
    {
     "data": {
      "text/latex": [
       "$\\displaystyle x^{4} - x^{2} + 1$"
      ],
      "text/plain": [
       "x**4 - x**2 + 1"
      ]
     },
     "metadata": {},
     "output_type": "display_data"
    },
    {
     "name": "stdout",
     "output_type": "stream",
     "text": [
      "Reel Faktorler: x**4 - x**2 + 1\n",
      "x^4 - x^2 + 1 kokleri: [-sqrt(3)/2 - I/2, -sqrt(3)/2 + I/2, sqrt(3)/2 - I/2, sqrt(3)/2 + I/2]\n",
      "Compex Faktorler: (x+sqrt(3)/2 + I/2)*(x+sqrt(3)/2 - I/2)*(x-sqrt(3)/2 + I/2)*(x-sqrt(3)/2 - I/2)\n"
     ]
    }
   ],
   "source": [
    "import sympy as sp\n",
    "\n",
    "x = sp.symbols('x')\n",
    "\n",
    "#1. kisim\n",
    "print(\"1.kisim\\n\")\n",
    "\n",
    "# x^3 - 1\n",
    "polynomial = x**3 - 1\n",
    "display(polynomial)\n",
    "factors_real = sp.factor(polynomial)\n",
    "print(\"Reel Faktorler:\", factors_real)\n",
    "#complexe faktorlerini bulmak icinse tüm koklerini bulmak lazim\n",
    "roots_1 = sp.solve(x**3 - 1, x)\n",
    "print(\"x^3 - 1 kokleri:\", roots_1)\n",
    "#simdi mecburen bu kokleri faktor carpim olarak yazalim\n",
    "print(\"Compex Faktorler: (x-1)*(x+1/2 + sqrt(3)*I/2)*(x+1/2 - sqrt(3)*I/2)\\n\")\n",
    "\n",
    "# x^3 + 1\n",
    "polynomial = x**3 + 1\n",
    "display(polynomial)\n",
    "factors_real = sp.factor(polynomial)\n",
    "print(\"Reel Faktorler:\", factors_real)\n",
    "#complexe faktorlerini bulmak icinse tüm koklerini bulmak lazim\n",
    "roots_2 = sp.solve(x**3 + 1, x)\n",
    "print(\"x^3 + 1 kokleri:\", roots_2)\n",
    "#simdi mecburen bu kokleri faktor carpim olarak yazalim\n",
    "print(\"Compex Faktorler: (x+1)*(x-1/2 + sqrt(3)*I/2)*(x -1/2 - sqrt(3)*I/2)\\n\")\n",
    "\n",
    "# x^6 - 1\n",
    "polynomial = x**6 - 1\n",
    "display(polynomial)\n",
    "factors_real = sp.factor(polynomial)\n",
    "print(\"Reel Faktorler:\", factors_real)\n",
    "#complexe faktorlerini bulmak icinse tüm koklerini bulmak lazim\n",
    "roots_3 = sp.solve(x**6 - 1, x)\n",
    "print(\"x^6 - 1 kokleri:\", roots_3)\n",
    "#simdi mecburen bu kokleri faktor carpim olarak yazalim\n",
    "print(\"Compex Faktorler: (x+1)*(x-1)*(x+1/2 + sqrt(3)*I/2)*(x+1/2 - sqrt(3)*I/2)*(x-1/2 + sqrt(3)*I/2)*(x-1/2 - sqrt(3)*I/2)\\n\")\n",
    "\n",
    "# x^6 + 1\n",
    "polynomial = x**6 + 1\n",
    "display(polynomial)\n",
    "factors_real = sp.factor(polynomial)\n",
    "print(\"Reel Faktorler:\", factors_real)\n",
    "#complexe faktorlerini bulmak icinse tüm koklerini bulmak lazim\n",
    "roots_4 = sp.solve(x**6 + 1, x)\n",
    "print(\"x^6 + 1 kokleri:\", roots_4)\n",
    "#simdi mecburen bu kokleri faktor carpim olarak yazalim\n",
    "print(\"Compex Faktorler: (x+I)*(x-I)*(x+sqrt(3)/2 + I/2)*(x+sqrt(3)/2 - I/2)*(x-sqrt(3)/2 + I/2)*(x-sqrt(3)/2 - I/2)\\n\")\n",
    "\n",
    "#2. kisim\n",
    "print(\"2.kisim\\n\")\n",
    "\n",
    "# x^4 + x^2 + 1\n",
    "polynomial = x**4 + x**2 + 1\n",
    "display(polynomial)\n",
    "factors_real = sp.factor(polynomial)\n",
    "print(\"Reel Faktorler:\", factors_real)\n",
    "#complexe faktorlerini bulmak icinse tüm koklerini bulmak lazim\n",
    "roots_5 = sp.solve(x**4 + x**2 + 1, x)\n",
    "print(\"x^4 + x^2 + 1 kokleri:\", roots_5)\n",
    "#simdi mecburen bu kokleri faktor carpim olarak yazalim\n",
    "print(\"Compex Faktorler: (x+1/2 + sqrt(3)*I/2)*(x+1/2 - sqrt(3)*I/2)*(x-1/2 + sqrt(3)*I/2)*(x-1/2 - sqrt(3)*I/2)\\n\")\n",
    "\n",
    "# x^4 - x^2 + 1\n",
    "polynomial = x**4 - x**2 + 1\n",
    "display(polynomial)\n",
    "factors_real = sp.factor(polynomial)\n",
    "print(\"Reel Faktorler:\", factors_real)\n",
    "#complexe faktorlerini bulmak icinse tüm koklerini bulmak lazim\n",
    "roots_6 = sp.solve(x**4 - x**2 + 1, x)\n",
    "print(\"x^4 - x^2 + 1 kokleri:\", roots_6)\n",
    "#simdi mecburen bu kokleri faktor carpim olarak yazalim\n",
    "print(\"Compex Faktorler: (x+sqrt(3)/2 + I/2)*(x+sqrt(3)/2 - I/2)*(x-sqrt(3)/2 + I/2)*(x-sqrt(3)/2 - I/2)\")"
   ]
  },
  {
   "cell_type": "markdown",
   "metadata": {},
   "source": [
    "Exercise-9"
   ]
  },
  {
   "cell_type": "code",
   "execution_count": 28,
   "metadata": {},
   "outputs": [
    {
     "name": "stdout",
     "output_type": "stream",
     "text": [
      "\n",
      "1.kisim\n"
     ]
    },
    {
     "data": {
      "text/latex": [
       "$\\displaystyle \\sqrt[3]{-1.0 + 1.0 i}$"
      ],
      "text/plain": [
       "(-1.0 + 1.0*I)**(1/3)"
      ]
     },
     "metadata": {},
     "output_type": "display_data"
    },
    {
     "name": "stdout",
     "output_type": "stream",
     "text": [
      "Kup kok (-1 + i): 0.7937005259841 + 0.7937005259841*I\n"
     ]
    },
    {
     "data": {
      "text/latex": [
       "$\\displaystyle 1.0 \\sqrt[3]{i}$"
      ],
      "text/plain": [
       "1.0*I**(1/3)"
      ]
     },
     "metadata": {},
     "output_type": "display_data"
    },
    {
     "name": "stdout",
     "output_type": "stream",
     "text": [
      "Kup kok (i): 0.866025403784439 + 0.5*I\n",
      "\n",
      "2.kisim\n"
     ]
    },
    {
     "data": {
      "text/latex": [
       "$\\displaystyle \\sqrt{1.0 + 1.0 i}$"
      ],
      "text/plain": [
       "sqrt(1.0 + 1.0*I)"
      ]
     },
     "metadata": {},
     "output_type": "display_data"
    },
    {
     "name": "stdout",
     "output_type": "stream",
     "text": [
      "Kare kok (1 + i): 1.09868411346781 + 0.455089860562227*I\n"
     ]
    },
    {
     "data": {
      "text/latex": [
       "$\\displaystyle 1.0 \\sqrt{- i}$"
      ],
      "text/plain": [
       "1.0*sqrt(-I)"
      ]
     },
     "metadata": {},
     "output_type": "display_data"
    },
    {
     "name": "stdout",
     "output_type": "stream",
     "text": [
      "Kare kok (-i): 0.707106781186548 - 0.707106781186548*I\n",
      "\n",
      "3.kisim\n"
     ]
    },
    {
     "data": {
      "text/latex": [
       "$\\displaystyle \\sqrt[4]{-7.0 + 24.0 i}$"
      ],
      "text/plain": [
       "(-7.0 + 24.0*I)**(1/4)"
      ]
     },
     "metadata": {},
     "output_type": "display_data"
    },
    {
     "name": "stdout",
     "output_type": "stream",
     "text": [
      "4. dereceden kok (-7 + 24i): 2.0 + 1.0*I\n"
     ]
    }
   ],
   "source": [
    "import sympy as sp\n",
    "\n",
    "# Verilen sayilar\n",
    "num1 = -1 + 1j\n",
    "num2 = 1j\n",
    "num3 = 1 + 1j\n",
    "num4 = -1j\n",
    "num5 = -7 + 24j\n",
    "\n",
    "# Koklerin hesaplanmasi\n",
    "#1.kisim\n",
    "kupkok_num1 = sp.root(num1, 3)\n",
    "kupkok_num2 = sp.root(num2, 3)\n",
    "#2.kisim\n",
    "karekok_num3 = sp.root(num3, 2)\n",
    "karekok_num4 = sp.root(num4, 2)\n",
    "#3.kisim\n",
    "dorduncu_derece_kok_num5 = sp.root(num5, 4)\n",
    "\n",
    "# Sonuclarin degerlerinin yazdirilmasi\n",
    "print(\"\\n1.kisim\")\n",
    "#1.kisim\n",
    "display(kupkok_num1)\n",
    "print(\"Kup kok (-1 + i):\", kupkok_num1.evalf())\n",
    "display(kupkok_num2)\n",
    "print(\"Kup kok (i):\", kupkok_num2.evalf())\n",
    "print(\"\\n2.kisim\")\n",
    "#2.kisim\n",
    "display(karekok_num3)\n",
    "print(\"Kare kok (1 + i):\", karekok_num3.evalf())\n",
    "display(karekok_num4)\n",
    "print(\"Kare kok (-i):\", karekok_num4.evalf())\n",
    "print(\"\\n3.kisim\")\n",
    "#3.kisim\n",
    "display(dorduncu_derece_kok_num5)\n",
    "print(\"4. dereceden kok (-7 + 24i):\", dorduncu_derece_kok_num5.evalf())\n"
   ]
  }
 ],
 "metadata": {
  "kernelspec": {
   "display_name": "base",
   "language": "python",
   "name": "python3"
  },
  "language_info": {
   "codemirror_mode": {
    "name": "ipython",
    "version": 3
   },
   "file_extension": ".py",
   "mimetype": "text/x-python",
   "name": "python",
   "nbconvert_exporter": "python",
   "pygments_lexer": "ipython3",
   "version": "3.11.5"
  }
 },
 "nbformat": 4,
 "nbformat_minor": 2
}
